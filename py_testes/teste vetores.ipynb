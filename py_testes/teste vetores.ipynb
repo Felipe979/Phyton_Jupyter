{
 "cells": [
  {
   "cell_type": "markdown",
   "metadata": {},
   "source": [
    "# Inserindo as coordenadas dos vértices de um polígono regular "
   ]
  },
  {
   "cell_type": "code",
   "execution_count": null,
   "metadata": {},
   "outputs": [],
   "source": [
    "import matplotlib.pyplot as plt\n",
    "import numpy as np\n",
    "\n",
    "n = int(input('Insira o número de vértices do polígono\\nOBS: O último vértice deve ser sempre igual ao primeiro  >> ')) + 1\n",
    "vertices = []\n",
    "xvert = []\n",
    "yvert = []\n",
    "\n",
    "i = 0\n",
    "print('\\nInsira os vérices do seu polígono')\n",
    "\n",
    "for i in range(0, n):\n",
    "    vertices_novos = [float(input('x_{} =  '.format(i))), float(input('y_{} = '.format(i)))]\n",
    "    vertices.append(vertices_novos)\n",
    "    xvert_novos = vertices[i][0]\n",
    "    xvert.append(xvert_novos)\n",
    "    yvert_novos = vertices[i][1]\n",
    "    yvert.append(yvert_novos)\n",
    "print('\\n')\n",
    "print(vertices)\n",
    "print(xvert)\n",
    "print(yvert)\n"
   ]
  },
  {
   "cell_type": "markdown",
   "metadata": {},
   "source": [
    "# Imprimindo o conjunto de pontos e gerando o polígono"
   ]
  },
  {
   "cell_type": "code",
   "execution_count": null,
   "metadata": {},
   "outputs": [],
   "source": [
    "plt.figure(dpi=150) # Configurando a resolução do gráfico\n",
    "plt.plot(xvert,yvert) # Configurando o eixo x e y do gráfico\n",
    "plt.savefig(\"teste5.png\") # Configurando a imagem a ser salva, assim como sua resolução\n",
    "plt.show()"
   ]
  },
  {
   "cell_type": "markdown",
   "metadata": {},
   "source": [
    "# Cálculo das propriedades geométricas do polígono"
   ]
  },
  {
   "cell_type": "markdown",
   "metadata": {},
   "source": [
    "## Área"
   ]
  },
  {
   "cell_type": "markdown",
   "metadata": {},
   "source": [
    "### A área de um polígono, em função de seus vértices, é dada pela soma de Gauss, que vem a ser $$ \\displaystyle{A = \\dfrac{1}{2} \\sum_{n = 0}^{n} (x_{i} \\cdot y_{i+1} - x_{i+1} \\cdot y_{i})} $$"
   ]
  },
  {
   "cell_type": "code",
   "execution_count": null,
   "metadata": {},
   "outputs": [],
   "source": [
    "i = 0\n",
    "area = []\n",
    "for i in range(0, n):\n",
    "    area = ((xvert[i][0] * yvert[i+1][0]) - (xvert[i+1][0] * yvert[i][0]))"
   ]
  }
 ],
 "metadata": {
  "kernelspec": {
   "display_name": "Python 3",
   "language": "python",
   "name": "python3"
  },
  "language_info": {
   "codemirror_mode": {
    "name": "ipython",
    "version": 3
   },
   "file_extension": ".py",
   "mimetype": "text/x-python",
   "name": "python",
   "nbconvert_exporter": "python",
   "pygments_lexer": "ipython3",
   "version": "3.8.5"
  }
 },
 "nbformat": 4,
 "nbformat_minor": 4
}
