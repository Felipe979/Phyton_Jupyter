{
 "cells": [
  {
   "cell_type": "markdown",
   "metadata": {
    "slideshow": {
     "slide_type": "slide"
    }
   },
   "source": [
    "# Automação de Sistemas e Processos com Phyton\n",
    "\n",
    "## Exemplo\n",
    "\n",
    "Todos os dias, um sistema atualiza os valores de vendas do dia anterior. O trabalho diário de um Analista consiste em enviar um e-mail para a diretoria no início do dia seguinte com as informações referentes ao faturamento e quantidade de produtos vendidos no dia anterior.\n",
    "\n",
    "E-mail da Diretoria: felipeferreira979.ff@gmail.com\n",
    "\n",
    "Bases de dados das vendas diárias:\n",
    "https://drive.google.com/drive/folders/14oLE59U1RqyRqlBbKpsyymW-mitvbtoh\n",
    "\n",
    "Para resolver esta situação, utilizaremos o PyAutoGUI, uma biblioteca onde é permitido que seus scripts Python controlem o mouse e o teclado para automatizar as interações com outros aplicativos.\n",
    "\n",
    "Referências da biblioteca: https://pyautogui.readthedocs.io/en/latest/"
   ]
  },
  {
   "cell_type": "markdown",
   "metadata": {
    "slideshow": {
     "slide_type": "subslide"
    }
   },
   "source": [
    "### Instalando o pacote necessário para automação"
   ]
  },
  {
   "cell_type": "markdown",
   "metadata": {
    "slideshow": {
     "slide_type": "slide"
    }
   },
   "source": [
    "!pip install pyautogui"
   ]
  },
  {
   "cell_type": "markdown",
   "metadata": {
    "slideshow": {
     "slide_type": "subslide"
    }
   },
   "source": [
    "### Importando os pacotes necessários para automação"
   ]
  },
  {
   "cell_type": "code",
   "execution_count": 33,
   "metadata": {
    "slideshow": {
     "slide_type": "slide"
    }
   },
   "outputs": [],
   "source": [
    "import pyautogui         # Para controlar regiões do teclado e mouse, automatizando processos\n",
    "import time                 # Para controlar os tempos de clique do mouse ou realização de digitações automáticas\n",
    "import pyperclip         # Para copiar links, pois o pyautogui não consegue escrever caracteres especiais como #, ?,!,  entre outros\n",
    "import pandas as pd   # Para trabalhar com bases de dados"
   ]
  },
  {
   "cell_type": "markdown",
   "metadata": {
    "slideshow": {
     "slide_type": "subslide"
    }
   },
   "source": [
    "### Automatizando a procura da base de dados para análise"
   ]
  },
  {
   "cell_type": "code",
   "execution_count": 32,
   "metadata": {
    "slideshow": {
     "slide_type": "slide"
    }
   },
   "outputs": [],
   "source": [
    "### Passo 1: Entrar no sistema (Pode ser um arquivo no computador interno ou um link. Neste caso, usaremos um link)\n",
    "\n",
    "#ptg.press(\"win\")\n",
    "#ptg.write(\"Chrome\")  # Comandos para inicializar o Google Chrome do zero\n",
    "#ptg.press(\"enter\")\n",
    "\n",
    "pyautogui.hotkey(\"ctrl\",\"t\") # Comando para apertar m,ais de duas teclas, isto é, atalhos do teclado. \n",
    "pyperclip.copy(\"https://drive.google.com/drive/folders/149xknr9JvrlEnhNWO49zPcw0PW5icxga?usp=sharing\") # Copiando o link desejado\n",
    "pyautogui.hotkey(\"ctrl\", \"v\") # Colando o link\n",
    "pyautogui.press(\"enter\") # Acessando o link copiado\n",
    "\n",
    "time.sleep(3) # Intervalo de tempo, em segundos, para uma pausa pontual no código. É útil quando se considera diferenças na velocidade da internet \n",
    "\n",
    "### Passo 2: Navegar até o local do relatório (entrar na pasta Exportar)\n",
    "pyautogui.click(x=354, y=299, clicks=2) # Acessando a pasta exportar\n",
    "time.sleep(2)\n",
    "\n",
    "### Passo 3: Fazer o download do relatório\n",
    "pyautogui.click(x=346, y=386)      # Clicando no arquivo desejado\n",
    "pyautogui.click(x=1155, y=186)    #Clicando nos três pontos\n",
    "time.sleep(3)\n",
    "pyautogui.click(x=1057, y=590)  # Clicando em \"Fazer Download\"\n",
    "time.sleep(5)\n",
    "pyautogui.press(\"enter\")              # Confirmando o Download\n",
    "time.sleep(5)\n"
   ]
  },
  {
   "cell_type": "markdown",
   "metadata": {
    "slideshow": {
     "slide_type": "subslide"
    }
   },
   "source": [
    "### Vamos agora ler o arquivo baixado para pegar os indicadores\n",
    "\n",
    "- Faturamento\n",
    "- Quantidade de Produtos"
   ]
  },
  {
   "cell_type": "code",
   "execution_count": 51,
   "metadata": {
    "slideshow": {
     "slide_type": "slide"
    }
   },
   "outputs": [
    {
     "name": "stdout",
     "output_type": "stream",
     "text": [
      "Foram vendidos 15227 produtos\n",
      "O faturamento foi de 2917311.00 reais\n"
     ]
    }
   ],
   "source": [
    "### Passo 4: Calcular os indicadores desejados (Faturamento, quantidade de produtos vendidos, etc) importando o pacote pandas\n",
    "\n",
    "tabela = pd.read_excel(r\"C:\\Users\\felip\\Dropbox\\My PC (LAPTOP-JBJQI5FV)\\Downloads\\Vendas - Dez.xlsx\") \n",
    "# Extraindo a base de dados com o Pandas e armazenando em uma variável. Deve-se extrair o caminho do arquivo desejado\n",
    "# Usa-se o \"r\" para fazer com que o phyton ignore as contrabarras e procure o arquivo nativamente\n",
    "\n",
    "display(tabela) # Também é possível usar o comando \"print(tabela)\", porém, o comando \"display(tabela)\" é mais agradável estéticamente\n",
    "faturamento = tabela[\"Valor Final\"].sum()\n",
    "quantidade = tabela[\"Quantidade\"].sum()\n",
    "print(\"Foram vendidos %d produtos\" %(quantidade))\n",
    "print(\"O faturamento foi de %.2f reais\"%(faturamento))"
   ]
  },
  {
   "cell_type": "markdown",
   "metadata": {
    "slideshow": {
     "slide_type": "subslide"
    }
   },
   "source": [
    "### Vamos agora enviar um e-mail pelo gmail"
   ]
  },
  {
   "cell_type": "code",
   "execution_count": 54,
   "metadata": {
    "slideshow": {
     "slide_type": "slide"
    }
   },
   "outputs": [],
   "source": [
    "### Passo 5: Acessar o email de trabalho\n",
    "\n",
    "pyautogui.hotkey(\"ctrl\",\"t\") # Comando para apertar m,ais de duas teclas, isto é, atalhos do teclado. \n",
    "pyperclip.copy(\"https://mail.google.com/mail/u/0/#inbox\") # Copiando o link desejado\n",
    "pyautogui.hotkey(\"ctrl\", \"v\") # Colando o link\n",
    "pyautogui.press(\"enter\") # Acessando o link copiado\n",
    "time.sleep(10)\n",
    "\n",
    "### Passo 6: Mandar um email para a diretoria com os indicadores desejados\n",
    "\n",
    "pyautogui.click(x=83, y=197)\n",
    "time.sleep(7)\n",
    "\n",
    "pyautogui.write(\"felipeferreira979.ff@gmail.com\")\n",
    "pyautogui.press(\"tab\") # seleciona o email"
   ]
  },
  {
   "cell_type": "code",
   "execution_count": 56,
   "metadata": {
    "slideshow": {
     "slide_type": "slide"
    }
   },
   "outputs": [],
   "source": [
    "### Passo 5: Acessar o email de trabalho\n",
    "\n",
    "pyautogui.hotkey(\"ctrl\",\"t\") # Comando para apertar m,ais de duas teclas, isto é, atalhos do teclado. \n",
    "pyperclip.copy(\"https://mail.google.com/mail/u/0/#inbox\") # Copiando o link desejado\n",
    "pyautogui.hotkey(\"ctrl\", \"v\") # Colando o link\n",
    "pyautogui.press(\"enter\") # Acessando o link copiado\n",
    "time.sleep(10)\n",
    "\n",
    "### Passo 6: Mandar um email para a diretoria com os indicadores desejados\n",
    "\n",
    "pyautogui.click(x=83, y=197)\n",
    "time.sleep(7)\n",
    "\n",
    "pyautogui.write(\"felipeferreira979.ff@gmail.com\") # Para selecionador o email destinatário\n",
    "pyautogui.press(\"tab\") # Seleciona o email. No caso de mais de um email, usa-se novamente o comando pyautogui.write()\n",
    "pyautogui.press(\"tab\") # Pula para o campo de assunto\n",
    "pyperclip.copy(\"Relatório de Vendas\") \n",
    "pyautogui.hotkey(\"ctrl\", \"v\") # Escrevendo o assunto oriundo de pyperclip.copy()\n",
    "pyautogui.press(\"tab\") #pular para o corpo do email\n",
    "\n",
    "# Criando um texto do email e salvando em uma variável\n",
    "\n",
    "texto = f\"\"\"\n",
    "Prezados, bom dia\n",
    "\n",
    "O faturamento de ontem foi de: R${faturamento:,.2f}\n",
    "A quantidade de produtos vendidos foi de: {quantidade:,}\n",
    "\n",
    "Cordialmente,\n",
    "FelipePython\"\"\"\n",
    "\n",
    "pyperclip.copy(texto)\n",
    "pyautogui.hotkey(\"ctrl\", \"v\")\n",
    "\n",
    "# clicar no botão enviar\n",
    "\n",
    "# apertar Ctrl Enter\n",
    "pyautogui.hotkey(\"ctrl\", \"enter\")"
   ]
  },
  {
   "cell_type": "markdown",
   "metadata": {
    "slideshow": {
     "slide_type": "subslide"
    }
   },
   "source": [
    "### Use o seguinte código para descobrir qual a posição de um item que queira clicar\n",
    "\n",
    "- Lembre-se: a posição na sua tela é diferente da posição na minha tela<br>\n"
   ]
  },
  {
   "cell_type": "code",
   "execution_count": 53,
   "metadata": {
    "slideshow": {
     "slide_type": "slide"
    }
   },
   "outputs": [
    {
     "data": {
      "text/plain": [
       "Point(x=83, y=197)"
      ]
     },
     "execution_count": 53,
     "metadata": {},
     "output_type": "execute_result"
    }
   ],
   "source": [
    "time.sleep(5)            # Tempo de resposta, em segundos, para que possamos colocar o ponteiro do mouse no local desejado da tela do PC\n",
    "pyautogui.position()"
   ]
  }
 ],
 "metadata": {
  "celltoolbar": "Slideshow",
  "kernelspec": {
   "display_name": "Python 3",
   "language": "python",
   "name": "python3"
  },
  "language_info": {
   "codemirror_mode": {
    "name": "ipython",
    "version": 3
   },
   "file_extension": ".py",
   "mimetype": "text/x-python",
   "name": "python",
   "nbconvert_exporter": "python",
   "pygments_lexer": "ipython3",
   "version": "3.8.5"
  }
 },
 "nbformat": 4,
 "nbformat_minor": 4
}
